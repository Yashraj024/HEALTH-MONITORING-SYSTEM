{
  "nbformat": 4,
  "nbformat_minor": 0,
  "metadata": {
    "colab": {
      "provenance": [],
      "authorship_tag": "ABX9TyNTFmzBosX31zJJigOvMo9q",
      "include_colab_link": true
    },
    "kernelspec": {
      "name": "python3",
      "display_name": "Python 3"
    },
    "language_info": {
      "name": "python"
    }
  },
  "cells": [
    {
      "cell_type": "markdown",
      "metadata": {
        "id": "view-in-github",
        "colab_type": "text"
      },
      "source": [
        "<a href=\"https://colab.research.google.com/github/Yashraj024/HEALTH-MONITORING-SYSTEM/blob/main/Health_Monitoring_System.ipynb\" target=\"_parent\"><img src=\"https://colab.research.google.com/assets/colab-badge.svg\" alt=\"Open In Colab\"/></a>"
      ]
    },
    {
      "cell_type": "markdown",
      "source": [
        "**IMPORTING ESSENTIAL** **LIBRARIES**\n",
        "\n"
      ],
      "metadata": {
        "id": "Q88kc4RHq1Ix"
      }
    },
    {
      "cell_type": "code",
      "execution_count": null,
      "metadata": {
        "id": "T1nBVeDbqvN-"
      },
      "outputs": [],
      "source": [
        "import random\n",
        "import json\n",
        "from pyspark.sql import SparkSession\n",
        "from kafka import KafkaProducer, KafkaConsumer\n",
        "from pymongo import MongoClient\n",
        "from textblob import TextBlob\n"
      ]
    },
    {
      "cell_type": "markdown",
      "source": [
        "**Initialize Spark Session**"
      ],
      "metadata": {
        "id": "roKji6oXrHrS"
      }
    },
    {
      "cell_type": "code",
      "source": [
        "spark = SparkSession.builder.appName(\"HealthMonitoring\").getOrCreate()\n",
        "\n",
        "def generate_patient_data(num_patients=10000):\n",
        "    patients = []\n",
        "    for i in range(num_patients):\n",
        "        patient = {\n",
        "            \"id\": i,\n",
        "            \"blood_pressure\": random.randint(90, 180),\n",
        "            \"sugar_level\": random.randint(70, 200),\n",
        "            \"cholesterol\": random.randint(100, 300),\n",
        "            \"haemoglobin\": round(random.uniform(10, 18), 1)\n",
        "        }\n",
        "        patients.append(patient)\n",
        "    return patients"
      ],
      "metadata": {
        "id": "JcWTf8LsrKU1"
      },
      "execution_count": null,
      "outputs": []
    },
    {
      "cell_type": "markdown",
      "source": [
        "**Store data in Hadoop HDFS (simulated by JSON file)**"
      ],
      "metadata": {
        "id": "WlUijp3ArMQZ"
      }
    },
    {
      "cell_type": "code",
      "source": [
        "def save_to_hdfs(patients, filename=\"patients_data.json\"):\n",
        "    with open(filename, \"w\") as f:\n",
        "        json.dump(patients, f)"
      ],
      "metadata": {
        "id": "dhiPHP44rPwI"
      },
      "execution_count": null,
      "outputs": []
    },
    {
      "cell_type": "markdown",
      "source": [
        "** Process data using Spark**"
      ],
      "metadata": {
        "id": "Y2geCe0frQhL"
      }
    },
    {
      "cell_type": "code",
      "source": [
        "def process_data(filename=\"patients_data.json\"):\n",
        "    df = spark.read.json(filename)\n",
        "    stats = df.describe().toPandas()\n",
        "    return stats"
      ],
      "metadata": {
        "id": "FVGDvsvJrZtL"
      },
      "execution_count": null,
      "outputs": []
    },
    {
      "cell_type": "markdown",
      "source": [
        "**Kafka Producer**"
      ],
      "metadata": {
        "id": "ofweMASTrcF6"
      }
    },
    {
      "cell_type": "code",
      "source": [
        "producer = KafkaProducer(bootstrap_servers='localhost:9092',\n",
        "                         value_serializer=lambda v: json.dumps(v).encode('utf-8'))\n",
        "\n",
        "def send_to_kafka(stats):\n",
        "    producer.send('health_stats', stats.to_dict())\n"
      ],
      "metadata": {
        "id": "y3uiSGn_re4a"
      },
      "execution_count": null,
      "outputs": []
    },
    {
      "cell_type": "markdown",
      "source": [
        "** Kafka Consumer**"
      ],
      "metadata": {
        "id": "y3akOekArgpq"
      }
    },
    {
      "cell_type": "code",
      "source": [
        "def receive_from_kafka():\n",
        "    consumer = KafkaConsumer('health_stats', bootstrap_servers='localhost:9092',\n",
        "                             value_deserializer=lambda m: json.loads(m.decode('utf-8')))\n",
        "    for msg in consumer:\n",
        "        print(\"Received:\", msg.value)\n"
      ],
      "metadata": {
        "id": "-juIZXQ8rlNA"
      },
      "execution_count": null,
      "outputs": []
    },
    {
      "cell_type": "markdown",
      "source": [
        "NoSQL Storage (MongoDB)"
      ],
      "metadata": {
        "id": "1Y8TYkahrne8"
      }
    },
    {
      "cell_type": "code",
      "source": [
        "client = MongoClient('localhost', 27017)\n",
        "db = client.health_monitoring\n",
        "feedback_collection = db.feedback\n",
        "\n",
        "def store_feedback(patient_id, feedback):\n",
        "    feedback_collection.insert_one({\"patient_id\": patient_id, \"feedback\": feedback})"
      ],
      "metadata": {
        "id": "bDO_eS1erqIw"
      },
      "execution_count": null,
      "outputs": []
    },
    {
      "cell_type": "markdown",
      "source": [
        "  Sentiment Analysis\n"
      ],
      "metadata": {
        "id": "Kagbpxynrp3e"
      }
    },
    {
      "cell_type": "code",
      "source": [
        "def analyze_feedback():\n",
        "    for feedback in feedback_collection.find():\n",
        "        sentiment = TextBlob(feedback['feedback']).sentiment.polarity\n",
        "        print(f\"Patient {feedback['patient_id']} Feedback Sentiment: {'Positive' if sentiment > 0 else 'Negative'}\")"
      ],
      "metadata": {
        "id": "3hbKu7GVrwdE"
      },
      "execution_count": null,
      "outputs": []
    },
    {
      "cell_type": "markdown",
      "source": [
        "**Sample Workflow**"
      ],
      "metadata": {
        "id": "_UHSw07Xry3Z"
      }
    },
    {
      "cell_type": "code",
      "source": [
        "if __name__ == \"__main__\":\n",
        "    patients = generate_patient_data()\n",
        "    save_to_hdfs(patients)\n",
        "    stats = process_data()\n",
        "    send_to_kafka(stats)\n",
        "    store_feedback(1, \"The test process was smooth and quick.\")\n",
        "    analyze_feedback()\n"
      ],
      "metadata": {
        "id": "92ZBsgJ1ryo5"
      },
      "execution_count": null,
      "outputs": []
    }
  ]
}